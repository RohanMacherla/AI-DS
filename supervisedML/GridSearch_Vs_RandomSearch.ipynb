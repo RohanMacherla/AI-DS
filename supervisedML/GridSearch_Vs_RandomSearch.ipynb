{
 "cells": [
  {
   "cell_type": "code",
   "execution_count": 3,
   "metadata": {},
   "outputs": [],
   "source": [
    "import pandas as pd\n",
    "import numpy as np\n",
    "import matplotlib.pyplot as plt\n",
    "import seaborn as sns\n",
    "from sklearn.model_selection import train_test_split, GridSearchCV, RandomizedSearchCV\n",
    "from sklearn.ensemble import RandomForestClassifier\n",
    "from sklearn.metrics import accuracy_score, classification_report, confusion_matrix\n",
    "from sklearn.datasets import load_iris"
   ]
  },
  {
   "cell_type": "code",
   "execution_count": null,
   "metadata": {},
   "outputs": [],
   "source": [
    "#Load dataset (Replace 'Your_dataset.csv with actual filename)\n",
    "df = load_iris()\n",
    "X = df.data\n",
    "y = df.target"
   ]
  },
  {
   "cell_type": "code",
   "execution_count": 5,
   "metadata": {},
   "outputs": [],
   "source": [
    "param_grid = {\n",
    "    'n_estimators':[10,50,100,200],\n",
    "    'max_depth':[5,10,20,None],\n",
    "    'min_samples_split':[2,5,10],\n",
    "    'min_samples_leaf':[1,2,4]\n",
    "}\n",
    "#Split into training and testing sets (80-20 split)\n",
    "X_train, X_test, y_train, y_test = train_test_split(X,y,test_size=0.2,random_state = 42)"
   ]
  },
  {
   "cell_type": "markdown",
   "metadata": {},
   "source": [
    "<h2>Apply Grid Search CV</h2>"
   ]
  },
  {
   "cell_type": "code",
   "execution_count": 10,
   "metadata": {},
   "outputs": [
    {
     "name": "stdout",
     "output_type": "stream",
     "text": [
      "Fitting 5 folds for each of 144 candidates, totalling 720 fits\n",
      "Best parameters from Grid Search:  {'max_depth': 5, 'min_samples_leaf': 1, 'min_samples_split': 2, 'n_estimators': 200}\n"
     ]
    }
   ],
   "source": [
    "# Grid Search CV\n",
    "grid_search = GridSearchCV(RandomForestClassifier(), param_grid, cv=5, n_jobs=-1, verbose=1)\n",
    "grid_search.fit(X_train, y_train)\n",
    "\n",
    "# Get Best Parameters\n",
    "print(\"Best parameters from Grid Search: \", grid_search.best_params_)"
   ]
  },
  {
   "cell_type": "markdown",
   "metadata": {},
   "source": [
    "<h2>Apply Randomized Search CV</h2>"
   ]
  },
  {
   "cell_type": "code",
   "execution_count": 12,
   "metadata": {},
   "outputs": [
    {
     "name": "stdout",
     "output_type": "stream",
     "text": [
      "Fitting 5 folds for each of 10 candidates, totalling 50 fits\n",
      "Best parameters from Randomized Search:  {'n_estimators': 100, 'min_samples_split': 10, 'min_samples_leaf': 2, 'max_depth': None}\n"
     ]
    }
   ],
   "source": [
    "#Randomized Search CV\n",
    "random_search = RandomizedSearchCV(RandomForestClassifier(), param_grid, cv=5, n_jobs=-1, verbose=1)\n",
    "random_search.fit(X_train, y_train)\n",
    "#Get best parameters\n",
    "print(\"Best parameters from Randomized Search: \", random_search.best_params_)"
   ]
  },
  {
   "cell_type": "markdown",
   "metadata": {},
   "source": [
    "<h2>Evaluate Model Performance</h2>"
   ]
  },
  {
   "cell_type": "code",
   "execution_count": 13,
   "metadata": {},
   "outputs": [
    {
     "name": "stdout",
     "output_type": "stream",
     "text": [
      "Grid Search Accuracy: 1.00\n",
      "Random Search Accuracy: 1.00\n"
     ]
    }
   ],
   "source": [
    "#Train Models With best parameters\n",
    "best_grid_model = grid_search.best_estimator_\n",
    "best_random_model = random_search.best_estimator_\n",
    "\n",
    "#Predictions\n",
    "y_pred_grid = best_grid_model.predict(X_test)\n",
    "y_pred_random = best_random_model.predict(X_test)\n",
    "\n",
    "#Accuracy\n",
    "acc_grid = accuracy_score(y_test, y_pred_grid)\n",
    "acc_random = accuracy_score(y_test, y_pred_random)\n",
    "\n",
    "print(f'Grid Search Accuracy: {acc_grid:.2f}')\n",
    "print(f'Random Search Accuracy: {acc_random:.2f}')"
   ]
  }
 ],
 "metadata": {
  "kernelspec": {
   "display_name": "Python 3",
   "language": "python",
   "name": "python3"
  },
  "language_info": {
   "codemirror_mode": {
    "name": "ipython",
    "version": 3
   },
   "file_extension": ".py",
   "mimetype": "text/x-python",
   "name": "python",
   "nbconvert_exporter": "python",
   "pygments_lexer": "ipython3",
   "version": "3.13.2"
  }
 },
 "nbformat": 4,
 "nbformat_minor": 2
}
